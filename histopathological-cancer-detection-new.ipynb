{
 "cells": [
  {
   "cell_type": "markdown",
   "id": "b84ec2e5",
   "metadata": {
    "papermill": {
     "duration": 0.03913,
     "end_time": "2022-08-03T09:22:04.837401",
     "exception": false,
     "start_time": "2022-08-03T09:22:04.798271",
     "status": "completed"
    },
    "tags": []
   },
   "source": [
    "# 1. ABOUT DATA AND PROJECT**"
   ]
  },
  {
   "cell_type": "code",
   "execution_count": 1,
   "id": "0b008ef0",
   "metadata": {
    "execution": {
     "iopub.execute_input": "2022-08-03T09:22:04.924031Z",
     "iopub.status.busy": "2022-08-03T09:22:04.923204Z",
     "iopub.status.idle": "2022-08-03T09:22:04.927055Z",
     "shell.execute_reply": "2022-08-03T09:22:04.926342Z"
    },
    "papermill": {
     "duration": 0.052201,
     "end_time": "2022-08-03T09:22:04.927283",
     "exception": true,
     "start_time": "2022-08-03T09:22:04.875082",
     "status": "failed"
    },
    "tags": []
   },
   "outputs": [
    {
     "ename": "SyntaxError",
     "evalue": "invalid syntax (2283467727.py, line 1)",
     "output_type": "error",
     "traceback": [
      "\u001b[0;36m  File \u001b[0;32m\"/tmp/ipykernel_17/2283467727.py\"\u001b[0;36m, line \u001b[0;32m1\u001b[0m\n\u001b[0;31m    **Goal :** Devlop a model that helps in identifying metastatic cancer from small image patches.A positive label indicates that the center 32x32px region of a patch contains at least one pixel of tumor tissue.\u001b[0m\n\u001b[0m     ^\u001b[0m\n\u001b[0;31mSyntaxError\u001b[0m\u001b[0;31m:\u001b[0m invalid syntax\n"
     ]
    }
   ],
   "source": [
    "**Goal :** Devlop a model that helps in identifying metastatic cancer from small image patches.A positive label indicates that the center 32x32px region of a patch contains at least one pixel of tumor tissue. \n",
    "​\n",
    "**Size of the dataset **: \n",
    "​\n",
    "Training set - 220025\n",
    "Test set - 57458"
   ]
  },
  {
   "cell_type": "markdown",
   "id": "b550134b",
   "metadata": {
    "papermill": {
     "duration": null,
     "end_time": null,
     "exception": null,
     "start_time": null,
     "status": "pending"
    },
    "tags": []
   },
   "source": []
  },
  {
   "cell_type": "markdown",
   "id": "d6bfa2d1",
   "metadata": {
    "papermill": {
     "duration": null,
     "end_time": null,
     "exception": null,
     "start_time": null,
     "status": "pending"
    },
    "tags": []
   },
   "source": [
    "# 2. EDA <a class=\"anchor\" id=\"prep\"></a>\n",
    "\n"
   ]
  },
  {
   "cell_type": "code",
   "execution_count": null,
   "id": "3df9ff5b",
   "metadata": {
    "_cell_guid": "b1076dfc-b9ad-4769-8c92-a6c4dae69d19",
    "_uuid": "8f2839f25d086af736a60e9eeb907d3b93b6e0e5",
    "execution": {
     "iopub.execute_input": "2022-08-03T07:26:22.326584Z",
     "iopub.status.busy": "2022-08-03T07:26:22.326098Z",
     "iopub.status.idle": "2022-08-03T07:26:26.090305Z",
     "shell.execute_reply": "2022-08-03T07:26:26.089400Z",
     "shell.execute_reply.started": "2022-08-03T07:26:22.326471Z"
    },
    "papermill": {
     "duration": null,
     "end_time": null,
     "exception": null,
     "start_time": null,
     "status": "pending"
    },
    "tags": []
   },
   "outputs": [],
   "source": [
    "import numpy as np\n",
    "import pandas as pd\n",
    "import os\n",
    "from os import listdir\n",
    "import cv2\n",
    "\n",
    "import matplotlib.pyplot as plt\n",
    "%matplotlib inline\n",
    "import seaborn as sns\n",
    "sns.set()\n",
    "from PIL import Image\n",
    "from glob import glob\n",
    "from skimage.io import imread\n",
    "\n",
    "import sklearn\n",
    "from sklearn.model_selection import train_test_split\n",
    "from sklearn.metrics import roc_auc_score\n",
    "\n",
    "import torch \n",
    "import torch.nn as nn\n",
    "import torch.nn.functional as F\n",
    "import torchvision\n",
    "import torchvision.transforms as transforms\n",
    "from torch.utils.data import TensorDataset, DataLoader, Dataset\n",
    "import torch.optim as optim\n",
    "\n",
    "import time\n",
    "import copy\n",
    "from tqdm import tqdm_notebook as tqdm\n",
    "\n",
    "import warnings\n",
    "warnings.filterwarnings(\"ignore\", category=DeprecationWarning)\n",
    "warnings.filterwarnings(\"ignore\", category=UserWarning)\n",
    "warnings.filterwarnings(\"ignore\", category=FutureWarning)\n",
    "\n"
   ]
  },
  {
   "cell_type": "markdown",
   "id": "131e2901",
   "metadata": {
    "papermill": {
     "duration": null,
     "end_time": null,
     "exception": null,
     "start_time": null,
     "status": "pending"
    },
    "tags": []
   },
   "source": []
  },
  {
   "cell_type": "code",
   "execution_count": null,
   "id": "a85aab3e",
   "metadata": {
    "execution": {
     "iopub.execute_input": "2022-08-03T07:26:34.598155Z",
     "iopub.status.busy": "2022-08-03T07:26:34.597369Z",
     "iopub.status.idle": "2022-08-03T07:26:34.665651Z",
     "shell.execute_reply": "2022-08-03T07:26:34.664754Z",
     "shell.execute_reply.started": "2022-08-03T07:26:34.598118Z"
    },
    "papermill": {
     "duration": null,
     "end_time": null,
     "exception": null,
     "start_time": null,
     "status": "pending"
    },
    "tags": []
   },
   "outputs": [],
   "source": [
    "# Model Parameters\n",
    "num_epochs = 10\n",
    "batch_size = 128\n",
    "num_classes = 2\n",
    "learning_rate = 0.002\n",
    "\n",
    "# Device configuration\n",
    "device = torch.device('cuda:0' if torch.cuda.is_available() else 'cpu')\n",
    "device"
   ]
  },
  {
   "cell_type": "markdown",
   "id": "e1891429",
   "metadata": {
    "papermill": {
     "duration": null,
     "end_time": null,
     "exception": null,
     "start_time": null,
     "status": "pending"
    },
    "tags": []
   },
   "source": [
    "### 2.1 Loading the data structure"
   ]
  },
  {
   "cell_type": "code",
   "execution_count": null,
   "id": "8b99073c",
   "metadata": {
    "execution": {
     "iopub.execute_input": "2022-08-03T07:26:37.102309Z",
     "iopub.status.busy": "2022-08-03T07:26:37.102030Z",
     "iopub.status.idle": "2022-08-03T07:26:37.108592Z",
     "shell.execute_reply": "2022-08-03T07:26:37.107676Z",
     "shell.execute_reply.started": "2022-08-03T07:26:37.102278Z"
    },
    "papermill": {
     "duration": null,
     "end_time": null,
     "exception": null,
     "start_time": null,
     "status": "pending"
    },
    "tags": []
   },
   "outputs": [],
   "source": [
    "base_dir = '../input/histopathologic-cancer-detection/'\n",
    "print(os.listdir(base_dir))"
   ]
  },
  {
   "cell_type": "code",
   "execution_count": null,
   "id": "2ea6014d",
   "metadata": {
    "execution": {
     "iopub.execute_input": "2022-08-03T07:26:53.463017Z",
     "iopub.status.busy": "2022-08-03T07:26:53.462506Z",
     "iopub.status.idle": "2022-08-03T07:26:53.694937Z",
     "shell.execute_reply": "2022-08-03T07:26:53.694158Z",
     "shell.execute_reply.started": "2022-08-03T07:26:53.462983Z"
    },
    "papermill": {
     "duration": null,
     "end_time": null,
     "exception": null,
     "start_time": null,
     "status": "pending"
    },
    "tags": []
   },
   "outputs": [],
   "source": [
    "labels = pd.read_csv(base_dir + \"train_labels.csv\")\n",
    "labels.head()"
   ]
  },
  {
   "cell_type": "code",
   "execution_count": null,
   "id": "4d223743",
   "metadata": {
    "execution": {
     "iopub.execute_input": "2022-08-02T11:45:28.635540Z",
     "iopub.status.busy": "2022-08-02T11:45:28.635254Z",
     "iopub.status.idle": "2022-08-02T11:45:28.645202Z",
     "shell.execute_reply": "2022-08-02T11:45:28.644427Z",
     "shell.execute_reply.started": "2022-08-02T11:45:28.635489Z"
    },
    "papermill": {
     "duration": null,
     "end_time": null,
     "exception": null,
     "start_time": null,
     "status": "pending"
    },
    "tags": []
   },
   "outputs": [],
   "source": [
    "labels.shape"
   ]
  },
  {
   "cell_type": "code",
   "execution_count": null,
   "id": "34f09ab3",
   "metadata": {
    "execution": {
     "iopub.execute_input": "2022-08-02T11:45:30.140753Z",
     "iopub.status.busy": "2022-08-02T11:45:30.139863Z",
     "iopub.status.idle": "2022-08-02T11:45:30.173239Z",
     "shell.execute_reply": "2022-08-02T11:45:30.171981Z",
     "shell.execute_reply.started": "2022-08-02T11:45:30.140706Z"
    },
    "papermill": {
     "duration": null,
     "end_time": null,
     "exception": null,
     "start_time": null,
     "status": "pending"
    },
    "tags": []
   },
   "outputs": [],
   "source": [
    "labels.info()"
   ]
  },
  {
   "cell_type": "markdown",
   "id": "a8fa53d8",
   "metadata": {
    "papermill": {
     "duration": null,
     "end_time": null,
     "exception": null,
     "start_time": null,
     "status": "pending"
    },
    "tags": []
   },
   "source": [
    "This file contains the ids of images for training and their labels for cancer. "
   ]
  },
  {
   "cell_type": "code",
   "execution_count": null,
   "id": "ea060b5d",
   "metadata": {
    "execution": {
     "iopub.execute_input": "2022-08-03T07:26:57.792301Z",
     "iopub.status.busy": "2022-08-03T07:26:57.792013Z",
     "iopub.status.idle": "2022-08-03T07:27:02.954761Z",
     "shell.execute_reply": "2022-08-03T07:27:02.953879Z",
     "shell.execute_reply.started": "2022-08-03T07:26:57.792262Z"
    },
    "papermill": {
     "duration": null,
     "end_time": null,
     "exception": null,
     "start_time": null,
     "status": "pending"
    },
    "tags": []
   },
   "outputs": [],
   "source": [
    "train_path = base_dir + \"train/\"\n",
    "test_path = base_dir + \"test/\"\n",
    "train_files = listdir(train_path)\n",
    "test_files = listdir(test_path)"
   ]
  },
  {
   "cell_type": "code",
   "execution_count": null,
   "id": "36a31a7b",
   "metadata": {
    "execution": {
     "iopub.execute_input": "2022-08-02T11:45:37.453114Z",
     "iopub.status.busy": "2022-08-02T11:45:37.452304Z",
     "iopub.status.idle": "2022-08-02T11:45:37.461387Z",
     "shell.execute_reply": "2022-08-02T11:45:37.460571Z",
     "shell.execute_reply.started": "2022-08-02T11:45:37.453075Z"
    },
    "papermill": {
     "duration": null,
     "end_time": null,
     "exception": null,
     "start_time": null,
     "status": "pending"
    },
    "tags": []
   },
   "outputs": [],
   "source": [
    "train_files[:5]"
   ]
  },
  {
   "cell_type": "code",
   "execution_count": null,
   "id": "48a87b0c",
   "metadata": {
    "execution": {
     "iopub.execute_input": "2022-08-02T11:45:39.982723Z",
     "iopub.status.busy": "2022-08-02T11:45:39.982121Z",
     "iopub.status.idle": "2022-08-02T11:45:39.988215Z",
     "shell.execute_reply": "2022-08-02T11:45:39.987534Z",
     "shell.execute_reply.started": "2022-08-02T11:45:39.982682Z"
    },
    "papermill": {
     "duration": null,
     "end_time": null,
     "exception": null,
     "start_time": null,
     "status": "pending"
    },
    "tags": []
   },
   "outputs": [],
   "source": [
    "test_files[:5]"
   ]
  },
  {
   "cell_type": "code",
   "execution_count": null,
   "id": "6cc4b248",
   "metadata": {
    "execution": {
     "iopub.execute_input": "2022-08-02T11:45:41.733701Z",
     "iopub.status.busy": "2022-08-02T11:45:41.731907Z",
     "iopub.status.idle": "2022-08-02T11:45:41.739847Z",
     "shell.execute_reply": "2022-08-02T11:45:41.738878Z",
     "shell.execute_reply.started": "2022-08-02T11:45:41.733646Z"
    },
    "papermill": {
     "duration": null,
     "end_time": null,
     "exception": null,
     "start_time": null,
     "status": "pending"
    },
    "tags": []
   },
   "outputs": [],
   "source": [
    "# Number of images in train and test\n",
    "print(\"Train size: \", len(train_files))\n",
    "print(\"Test size: \", len(test_files))"
   ]
  },
  {
   "cell_type": "code",
   "execution_count": null,
   "id": "732dd3e9",
   "metadata": {
    "execution": {
     "iopub.execute_input": "2022-08-02T11:45:43.582904Z",
     "iopub.status.busy": "2022-08-02T11:45:43.582488Z",
     "iopub.status.idle": "2022-08-02T11:45:43.589730Z",
     "shell.execute_reply": "2022-08-02T11:45:43.588890Z",
     "shell.execute_reply.started": "2022-08-02T11:45:43.582868Z"
    },
    "papermill": {
     "duration": null,
     "end_time": null,
     "exception": null,
     "start_time": null,
     "status": "pending"
    },
    "tags": []
   },
   "outputs": [],
   "source": [
    "print((len(train_files)/(len(train_files)+len(test_files)))*100, (len(test_files)/(len(train_files)+len(test_files)))*100)"
   ]
  },
  {
   "cell_type": "markdown",
   "id": "539897c7",
   "metadata": {
    "papermill": {
     "duration": null,
     "end_time": null,
     "exception": null,
     "start_time": null,
     "status": "pending"
    },
    "tags": []
   },
   "source": [
    "The directories train and test contain the actual images with 79.3% and 20.7% of the total images respectively."
   ]
  },
  {
   "cell_type": "code",
   "execution_count": null,
   "id": "0b0ac7e6",
   "metadata": {
    "execution": {
     "iopub.execute_input": "2022-08-03T07:27:53.753194Z",
     "iopub.status.busy": "2022-08-03T07:27:53.752908Z",
     "iopub.status.idle": "2022-08-03T07:27:53.866370Z",
     "shell.execute_reply": "2022-08-03T07:27:53.865534Z",
     "shell.execute_reply.started": "2022-08-03T07:27:53.753163Z"
    },
    "papermill": {
     "duration": null,
     "end_time": null,
     "exception": null,
     "start_time": null,
     "status": "pending"
    },
    "tags": []
   },
   "outputs": [],
   "source": [
    "sub = pd.read_csv(base_dir + \"sample_submission.csv\")\n",
    "sub.head()"
   ]
  },
  {
   "cell_type": "code",
   "execution_count": null,
   "id": "f092e348",
   "metadata": {
    "execution": {
     "iopub.execute_input": "2022-08-02T11:45:47.875763Z",
     "iopub.status.busy": "2022-08-02T11:45:47.875398Z",
     "iopub.status.idle": "2022-08-02T11:45:47.881663Z",
     "shell.execute_reply": "2022-08-02T11:45:47.880822Z",
     "shell.execute_reply.started": "2022-08-02T11:45:47.875721Z"
    },
    "papermill": {
     "duration": null,
     "end_time": null,
     "exception": null,
     "start_time": null,
     "status": "pending"
    },
    "tags": []
   },
   "outputs": [],
   "source": [
    "sub.shape"
   ]
  },
  {
   "cell_type": "code",
   "execution_count": null,
   "id": "e0269758",
   "metadata": {
    "execution": {
     "iopub.execute_input": "2022-08-02T11:45:49.365269Z",
     "iopub.status.busy": "2022-08-02T11:45:49.364992Z",
     "iopub.status.idle": "2022-08-02T11:45:49.380730Z",
     "shell.execute_reply": "2022-08-02T11:45:49.379755Z",
     "shell.execute_reply.started": "2022-08-02T11:45:49.365234Z"
    },
    "papermill": {
     "duration": null,
     "end_time": null,
     "exception": null,
     "start_time": null,
     "status": "pending"
    },
    "tags": []
   },
   "outputs": [],
   "source": [
    "sub.info()"
   ]
  },
  {
   "cell_type": "markdown",
   "id": "dd8d4a3f",
   "metadata": {
    "papermill": {
     "duration": null,
     "end_time": null,
     "exception": null,
     "start_time": null,
     "status": "pending"
    },
    "tags": []
   },
   "source": [
    "**2.2 ANALYSIS ON THE DATA SET**"
   ]
  },
  {
   "cell_type": "markdown",
   "id": "6fe064df",
   "metadata": {
    "papermill": {
     "duration": null,
     "end_time": null,
     "exception": null,
     "start_time": null,
     "status": "pending"
    },
    "tags": []
   },
   "source": [
    "Here we find that there are more number of class 0, that is more samples for the images that are true for showing the presence of cancer. Thus we can see that there is class imbalance. Let us plot and have a look at the same."
   ]
  },
  {
   "cell_type": "code",
   "execution_count": null,
   "id": "5c321344",
   "metadata": {
    "execution": {
     "iopub.execute_input": "2022-08-03T07:27:19.694961Z",
     "iopub.status.busy": "2022-08-03T07:27:19.694454Z",
     "iopub.status.idle": "2022-08-03T07:27:19.819130Z",
     "shell.execute_reply": "2022-08-03T07:27:19.818273Z",
     "shell.execute_reply.started": "2022-08-03T07:27:19.694927Z"
    },
    "papermill": {
     "duration": null,
     "end_time": null,
     "exception": null,
     "start_time": null,
     "status": "pending"
    },
    "tags": []
   },
   "outputs": [],
   "source": [
    "plt.pie(labels.label.value_counts(), labels=['No Cancer', 'Cancer'], colors=['#90EE91', '#F47174'], autopct='%1.1f')\n",
    "plt.show()"
   ]
  },
  {
   "cell_type": "markdown",
   "id": "667e059f",
   "metadata": {
    "papermill": {
     "duration": null,
     "end_time": null,
     "exception": null,
     "start_time": null,
     "status": "pending"
    },
    "tags": []
   },
   "source": [
    " **2.3 Visualizing healthy and cancer patches****"
   ]
  },
  {
   "cell_type": "code",
   "execution_count": null,
   "id": "c6f9a26b",
   "metadata": {
    "execution": {
     "iopub.execute_input": "2022-08-03T07:27:23.158310Z",
     "iopub.status.busy": "2022-08-03T07:27:23.158027Z",
     "iopub.status.idle": "2022-08-03T07:27:23.190057Z",
     "shell.execute_reply": "2022-08-03T07:27:23.189216Z",
     "shell.execute_reply.started": "2022-08-03T07:27:23.158278Z"
    },
    "papermill": {
     "duration": null,
     "end_time": null,
     "exception": null,
     "start_time": null,
     "status": "pending"
    },
    "tags": []
   },
   "outputs": [],
   "source": [
    "positive_images = np.random.choice(labels[labels.label==1].id, size=50, replace=False)\n",
    "negative_images = np.random.choice(labels[labels.label==0].id, size=50, replace=False)"
   ]
  },
  {
   "cell_type": "markdown",
   "id": "ca950710",
   "metadata": {
    "papermill": {
     "duration": null,
     "end_time": null,
     "exception": null,
     "start_time": null,
     "status": "pending"
    },
    "tags": []
   },
   "source": [
    "**Cancer patches**"
   ]
  },
  {
   "cell_type": "code",
   "execution_count": null,
   "id": "6b4a3629",
   "metadata": {
    "execution": {
     "iopub.execute_input": "2022-08-02T11:45:59.000744Z",
     "iopub.status.busy": "2022-08-02T11:45:58.999820Z",
     "iopub.status.idle": "2022-08-02T11:46:03.065050Z",
     "shell.execute_reply": "2022-08-02T11:46:03.063430Z",
     "shell.execute_reply.started": "2022-08-02T11:45:59.000695Z"
    },
    "papermill": {
     "duration": null,
     "end_time": null,
     "exception": null,
     "start_time": null,
     "status": "pending"
    },
    "tags": []
   },
   "outputs": [],
   "source": [
    "fig, ax = plt.subplots(5, 10, figsize=(20,10))\n",
    "\n",
    "for n in range(5):\n",
    "    for m in range(10):\n",
    "        img_id = positive_images[m + n*10]\n",
    "        image = Image.open(train_path + img_id + \".tif\")\n",
    "        ax[n,m].imshow(image)\n",
    "        ax[n,m].grid(False)\n",
    "        ax[n,m].tick_params(labelbottom=False, labelleft=False)"
   ]
  },
  {
   "cell_type": "markdown",
   "id": "a936507f",
   "metadata": {
    "papermill": {
     "duration": null,
     "end_time": null,
     "exception": null,
     "start_time": null,
     "status": "pending"
    },
    "tags": []
   },
   "source": [
    "**Healthy patches**"
   ]
  },
  {
   "cell_type": "code",
   "execution_count": null,
   "id": "815d38bc",
   "metadata": {
    "execution": {
     "iopub.execute_input": "2022-08-02T11:46:03.067149Z",
     "iopub.status.busy": "2022-08-02T11:46:03.066842Z",
     "iopub.status.idle": "2022-08-02T11:46:07.102041Z",
     "shell.execute_reply": "2022-08-02T11:46:07.101435Z",
     "shell.execute_reply.started": "2022-08-02T11:46:03.067114Z"
    },
    "papermill": {
     "duration": null,
     "end_time": null,
     "exception": null,
     "start_time": null,
     "status": "pending"
    },
    "tags": []
   },
   "outputs": [],
   "source": [
    "fig, ax = plt.subplots(5, 10, figsize=(20,10))\n",
    "\n",
    "for n in range(5):\n",
    "    for m in range(10):\n",
    "        img_id = negative_images[m + n*10]\n",
    "        image = Image.open(train_path + img_id + \".tif\")\n",
    "        ax[n,m].imshow(image)\n",
    "        ax[n,m].grid(False)\n",
    "        ax[n,m].tick_params(labelbottom=False, labelleft=False)"
   ]
  },
  {
   "cell_type": "markdown",
   "id": "73ad796c",
   "metadata": {
    "papermill": {
     "duration": null,
     "end_time": null,
     "exception": null,
     "start_time": null,
     "status": "pending"
    },
    "tags": []
   },
   "source": [
    "**SOLUTION TO DATA IMBALANCE**"
   ]
  },
  {
   "cell_type": "markdown",
   "id": "ad1237ae",
   "metadata": {
    "papermill": {
     "duration": null,
     "end_time": null,
     "exception": null,
     "start_time": null,
     "status": "pending"
    },
    "tags": []
   },
   "source": [
    "Thus to balance the dataset ,we are going to add more number of images to the imbalanced class by data augmentation and increase the data size."
   ]
  },
  {
   "cell_type": "markdown",
   "id": "52c25264",
   "metadata": {
    "papermill": {
     "duration": null,
     "end_time": null,
     "exception": null,
     "start_time": null,
     "status": "pending"
    },
    "tags": []
   },
   "source": [
    "# #3. Data Preprocessing <a class=\"anchor\" id=\"data\"></a>**\n",
    "\n"
   ]
  },
  {
   "cell_type": "markdown",
   "id": "4b768f22",
   "metadata": {
    "papermill": {
     "duration": null,
     "end_time": null,
     "exception": null,
     "start_time": null,
     "status": "pending"
    },
    "tags": []
   },
   "source": [
    "# #3.1 Splitting the data into train and validation sets **"
   ]
  },
  {
   "cell_type": "code",
   "execution_count": null,
   "id": "b1574604",
   "metadata": {
    "execution": {
     "iopub.execute_input": "2022-08-03T07:27:30.159174Z",
     "iopub.status.busy": "2022-08-03T07:27:30.158435Z",
     "iopub.status.idle": "2022-08-03T07:27:30.278822Z",
     "shell.execute_reply": "2022-08-03T07:27:30.277932Z",
     "shell.execute_reply.started": "2022-08-03T07:27:30.159138Z"
    },
    "papermill": {
     "duration": null,
     "end_time": null,
     "exception": null,
     "start_time": null,
     "status": "pending"
    },
    "tags": []
   },
   "outputs": [],
   "source": [
    "train, val = train_test_split(labels, stratify=labels.label, test_size=0.1)\n",
    "print(len(train), len(val))"
   ]
  },
  {
   "cell_type": "markdown",
   "id": "740f991a",
   "metadata": {
    "papermill": {
     "duration": null,
     "end_time": null,
     "exception": null,
     "start_time": null,
     "status": "pending"
    },
    "tags": []
   },
   "source": [
    "I have split the train data into train and validation sets in the ratio 9:1.\n",
    "\n",
    "**Plotting the positive and negative ratio in train and val sets**"
   ]
  },
  {
   "cell_type": "code",
   "execution_count": null,
   "id": "27783c3c",
   "metadata": {
    "execution": {
     "iopub.execute_input": "2022-08-03T07:27:32.302612Z",
     "iopub.status.busy": "2022-08-03T07:27:32.302151Z",
     "iopub.status.idle": "2022-08-03T07:27:32.695225Z",
     "shell.execute_reply": "2022-08-03T07:27:32.694427Z",
     "shell.execute_reply.started": "2022-08-03T07:27:32.302553Z"
    },
    "papermill": {
     "duration": null,
     "end_time": null,
     "exception": null,
     "start_time": null,
     "status": "pending"
    },
    "tags": []
   },
   "outputs": [],
   "source": [
    "fig, ax = plt.subplots(1, 2, figsize=(10,4))\n",
    "\n",
    "sns.countplot(train.label, palette=\"Blues\", ax=ax[0])\n",
    "ax[0].set_title(\"Train dataset\")\n",
    "for i, rows in enumerate(train['label'].value_counts().values):\n",
    "    ax[0].annotate(int(rows), xy=(i, rows), ha='center')\n",
    "sns.countplot(val.label, palette=\"Greens\", ax=ax[1])\n",
    "ax[1].set_title(\"Validation dataset\")\n",
    "for i, rows in enumerate(val['label'].value_counts().values):\n",
    "    ax[1].annotate(int(rows), xy=(i, rows), ha='center')"
   ]
  },
  {
   "cell_type": "markdown",
   "id": "b3a3aa78",
   "metadata": {
    "papermill": {
     "duration": null,
     "end_time": null,
     "exception": null,
     "start_time": null,
     "status": "pending"
    },
    "tags": []
   },
   "source": []
  },
  {
   "cell_type": "markdown",
   "id": "0101595e",
   "metadata": {
    "papermill": {
     "duration": null,
     "end_time": null,
     "exception": null,
     "start_time": null,
     "status": "pending"
    },
    "tags": []
   },
   "source": [
    "### 3.2 Custom Dataset\n",
    "\n",
    "I have created a dataset that loads an image patch, converts it to RGB, performs the augmentation if it's desired, and returns the image and its label."
   ]
  },
  {
   "cell_type": "code",
   "execution_count": null,
   "id": "43f47cc8",
   "metadata": {
    "execution": {
     "iopub.execute_input": "2022-08-03T07:27:36.928437Z",
     "iopub.status.busy": "2022-08-03T07:27:36.928173Z",
     "iopub.status.idle": "2022-08-03T07:27:36.936017Z",
     "shell.execute_reply": "2022-08-03T07:27:36.934925Z",
     "shell.execute_reply.started": "2022-08-03T07:27:36.928408Z"
    },
    "papermill": {
     "duration": null,
     "end_time": null,
     "exception": null,
     "start_time": null,
     "status": "pending"
    },
    "tags": []
   },
   "outputs": [],
   "source": [
    "class CancerDataset(Dataset):\n",
    "    \n",
    "    def __init__(self, df_data, data_dir = './', transform=None):\n",
    "        super().__init__()\n",
    "        self.df = df_data.values\n",
    "        self.data_dir = data_dir\n",
    "        self.transform = transform\n",
    "        \n",
    "    def __len__(self):\n",
    "        return len(self.df)\n",
    "    \n",
    "    def __getitem__(self, index):\n",
    "        img_name,label = self.df[index]\n",
    "        img_path = os.path.join(self.data_dir, img_name + '.tif')\n",
    "        image = cv2.imread(img_path)\n",
    "        if self.transform is not None:\n",
    "            image = self.transform(image)\n",
    "        return image, label"
   ]
  },
  {
   "cell_type": "markdown",
   "id": "56ed209c",
   "metadata": {
    "papermill": {
     "duration": null,
     "end_time": null,
     "exception": null,
     "start_time": null,
     "status": "pending"
    },
    "tags": []
   },
   "source": [
    "### 3.3 Data Augmentation\n",
    "\n",
    "Now to increase the data size, I have applied transformation like flipping and rotation to the train dataset, and then converted the datasets into tensors."
   ]
  },
  {
   "cell_type": "code",
   "execution_count": null,
   "id": "366791f2",
   "metadata": {
    "execution": {
     "iopub.execute_input": "2022-08-03T07:27:42.224001Z",
     "iopub.status.busy": "2022-08-03T07:27:42.223558Z",
     "iopub.status.idle": "2022-08-03T07:27:42.237554Z",
     "shell.execute_reply": "2022-08-03T07:27:42.236789Z",
     "shell.execute_reply.started": "2022-08-03T07:27:42.223966Z"
    },
    "papermill": {
     "duration": null,
     "end_time": null,
     "exception": null,
     "start_time": null,
     "status": "pending"
    },
    "tags": []
   },
   "outputs": [],
   "source": [
    "transform_train = transforms.Compose([transforms.ToPILImage(),\n",
    "                                  transforms.RandomHorizontalFlip(), \n",
    "                                  transforms.RandomVerticalFlip(),\n",
    "                                  transforms.RandomRotation(20), \n",
    "                                  transforms.ToTensor(),\n",
    "                                  transforms.Normalize(mean=[0.5, 0.5, 0.5],std=[0.5, 0.5, 0.5])])\n",
    "\n",
    "transform_val = transforms.Compose([transforms.ToPILImage(),\n",
    "                                  transforms.ToTensor(),\n",
    "                                  transforms.Normalize(mean=[0.5, 0.5, 0.5],std=[0.5, 0.5, 0.5])])\n",
    "\n",
    "transform_test = transforms.Compose([transforms.ToPILImage(), \n",
    "                                  transforms.ToTensor(),\n",
    "                                  transforms.Normalize(mean=[0.5, 0.5, 0.5],std=[0.5, 0.5, 0.5])])"
   ]
  },
  {
   "cell_type": "code",
   "execution_count": null,
   "id": "8134fb56",
   "metadata": {
    "execution": {
     "iopub.execute_input": "2022-08-03T07:28:02.139155Z",
     "iopub.status.busy": "2022-08-03T07:28:02.138865Z",
     "iopub.status.idle": "2022-08-03T07:28:02.172458Z",
     "shell.execute_reply": "2022-08-03T07:28:02.171628Z",
     "shell.execute_reply.started": "2022-08-03T07:28:02.139121Z"
    },
    "papermill": {
     "duration": null,
     "end_time": null,
     "exception": null,
     "start_time": null,
     "status": "pending"
    },
    "tags": []
   },
   "outputs": [],
   "source": [
    "train_dataset = CancerDataset(df_data=train, data_dir=train_path, transform=transform_train)\n",
    "val_dataset = CancerDataset(df_data=val, data_dir=train_path, transform=transform_val)\n",
    "test_dataset = CancerDataset(df_data=sub, data_dir=test_path, transform=transform_test)"
   ]
  },
  {
   "cell_type": "code",
   "execution_count": null,
   "id": "10b54d6a",
   "metadata": {
    "execution": {
     "iopub.execute_input": "2022-08-03T07:28:05.711318Z",
     "iopub.status.busy": "2022-08-03T07:28:05.710720Z",
     "iopub.status.idle": "2022-08-03T07:28:05.716168Z",
     "shell.execute_reply": "2022-08-03T07:28:05.715345Z",
     "shell.execute_reply.started": "2022-08-03T07:28:05.711284Z"
    },
    "papermill": {
     "duration": null,
     "end_time": null,
     "exception": null,
     "start_time": null,
     "status": "pending"
    },
    "tags": []
   },
   "outputs": [],
   "source": [
    "train_dataloader = DataLoader(train_dataset, batch_size=batch_size, shuffle=True, drop_last=True)\n",
    "val_dataloader = DataLoader(val_dataset, batch_size=batch_size, shuffle=False, drop_last=True)\n",
    "test_dataloader = DataLoader(test_dataset, batch_size=batch_size, shuffle=False)"
   ]
  },
  {
   "cell_type": "code",
   "execution_count": null,
   "id": "4f725733",
   "metadata": {
    "execution": {
     "iopub.execute_input": "2022-08-03T07:28:07.471423Z",
     "iopub.status.busy": "2022-08-03T07:28:07.470809Z",
     "iopub.status.idle": "2022-08-03T07:28:07.477141Z",
     "shell.execute_reply": "2022-08-03T07:28:07.476246Z",
     "shell.execute_reply.started": "2022-08-03T07:28:07.471390Z"
    },
    "papermill": {
     "duration": null,
     "end_time": null,
     "exception": null,
     "start_time": null,
     "status": "pending"
    },
    "tags": []
   },
   "outputs": [],
   "source": [
    "print(len(train_dataloader), len(val_dataloader), len(test_dataloader))"
   ]
  },
  {
   "cell_type": "markdown",
   "id": "e4ff47ab",
   "metadata": {
    "papermill": {
     "duration": null,
     "end_time": null,
     "exception": null,
     "start_time": null,
     "status": "pending"
    },
    "tags": []
   },
   "source": [
    "# 4. Defining the Model <a class=\"anchor\" id=\"model\"></a>\n",
    "\n",
    "I am using a CNN as the model with 5 layers."
   ]
  },
  {
   "cell_type": "code",
   "execution_count": null,
   "id": "c781a31c",
   "metadata": {
    "execution": {
     "iopub.execute_input": "2022-08-03T07:28:10.081826Z",
     "iopub.status.busy": "2022-08-03T07:28:10.081201Z",
     "iopub.status.idle": "2022-08-03T07:28:10.094188Z",
     "shell.execute_reply": "2022-08-03T07:28:10.093317Z",
     "shell.execute_reply.started": "2022-08-03T07:28:10.081785Z"
    },
    "papermill": {
     "duration": null,
     "end_time": null,
     "exception": null,
     "start_time": null,
     "status": "pending"
    },
    "tags": []
   },
   "outputs": [],
   "source": [
    "class CNN(nn.Module):\n",
    "    def __init__(self):\n",
    "        super(CNN,self).__init__()\n",
    "        \n",
    "        self.conv1 = nn.Sequential(\n",
    "                        nn.Conv2d(3, 32, 3, stride=1, padding=1),\n",
    "                        nn.BatchNorm2d(32),\n",
    "                        nn.ReLU(inplace=True),\n",
    "                        nn.MaxPool2d(2,2))\n",
    "        \n",
    "        self.conv2 = nn.Sequential(\n",
    "                        nn.Conv2d(32, 64, 3, stride=1, padding=1),\n",
    "                        nn.BatchNorm2d(64),\n",
    "                        nn.ReLU(inplace=True),\n",
    "                        nn.MaxPool2d(2,2))\n",
    "        \n",
    "        self.conv3 = nn.Sequential(\n",
    "                        nn.Conv2d(64, 128, 3, stride=1, padding=1),\n",
    "                        nn.BatchNorm2d(128),\n",
    "                        nn.ReLU(inplace=True),\n",
    "                        nn.MaxPool2d(2,2))\n",
    "        \n",
    "        self.conv4 = nn.Sequential(\n",
    "                        nn.Conv2d(128, 256, 3, stride=1, padding=1),\n",
    "                        nn.BatchNorm2d(256),\n",
    "                        nn.ReLU(inplace=True),\n",
    "                        nn.MaxPool2d(2,2))\n",
    "        \n",
    "        self.conv5 = nn.Sequential(\n",
    "                        nn.Conv2d(256, 512, 3, stride=1, padding=1),\n",
    "                        nn.BatchNorm2d(512),\n",
    "                        nn.ReLU(inplace=True),\n",
    "                        nn.MaxPool2d(2,2))\n",
    "        \n",
    "        self.fc=nn.Sequential(\n",
    "                nn.Linear(512*3*3, 256),\n",
    "                nn.ReLU(inplace=True),\n",
    "                nn.BatchNorm1d(256),\n",
    "                nn.Dropout(0.4),\n",
    "                nn.Linear(256, num_classes))\n",
    "        \n",
    "    def forward(self,x):\n",
    "        x=self.conv1(x)\n",
    "        x=self.conv2(x)\n",
    "        x=self.conv3(x)\n",
    "        x=self.conv4(x)\n",
    "        x=self.conv5(x)\n",
    "#        print(x.shape)\n",
    "        x=x.view(x.shape[0],-1)\n",
    "        x=self.fc(x)\n",
    "        return x"
   ]
  },
  {
   "cell_type": "markdown",
   "id": "881fa2af",
   "metadata": {
    "papermill": {
     "duration": null,
     "end_time": null,
     "exception": null,
     "start_time": null,
     "status": "pending"
    },
    "tags": []
   },
   "source": [
    "Printing the training model."
   ]
  },
  {
   "cell_type": "code",
   "execution_count": null,
   "id": "1ee69201",
   "metadata": {
    "execution": {
     "iopub.execute_input": "2022-08-03T07:28:13.848473Z",
     "iopub.status.busy": "2022-08-03T07:28:13.848191Z",
     "iopub.status.idle": "2022-08-03T07:28:17.221128Z",
     "shell.execute_reply": "2022-08-03T07:28:17.219428Z",
     "shell.execute_reply.started": "2022-08-03T07:28:13.848440Z"
    },
    "papermill": {
     "duration": null,
     "end_time": null,
     "exception": null,
     "start_time": null,
     "status": "pending"
    },
    "tags": []
   },
   "outputs": [],
   "source": [
    "model = CNN().to(device)\n",
    "print(model)"
   ]
  },
  {
   "cell_type": "markdown",
   "id": "76fac253",
   "metadata": {
    "papermill": {
     "duration": null,
     "end_time": null,
     "exception": null,
     "start_time": null,
     "status": "pending"
    },
    "tags": []
   },
   "source": [
    "### 4.1  Loss and Optimizer\n",
    "\n",
    "This task is a binary classification problem that has two classes, 1 for cancer positive images and 0 for cancer negative images. For loss function, I have used cross entropy loss.\n",
    "I have used adam for optimizer."
   ]
  },
  {
   "cell_type": "code",
   "execution_count": null,
   "id": "0d4fd6d8",
   "metadata": {
    "execution": {
     "iopub.execute_input": "2022-08-03T07:28:20.611017Z",
     "iopub.status.busy": "2022-08-03T07:28:20.610419Z",
     "iopub.status.idle": "2022-08-03T07:28:20.615908Z",
     "shell.execute_reply": "2022-08-03T07:28:20.615085Z",
     "shell.execute_reply.started": "2022-08-03T07:28:20.610981Z"
    },
    "papermill": {
     "duration": null,
     "end_time": null,
     "exception": null,
     "start_time": null,
     "status": "pending"
    },
    "tags": []
   },
   "outputs": [],
   "source": [
    "criterion = nn.CrossEntropyLoss()\n",
    "optimizer = torch.optim.Adamax(model.parameters(), lr=learning_rate)"
   ]
  },
  {
   "cell_type": "markdown",
   "id": "e303aa17",
   "metadata": {
    "papermill": {
     "duration": null,
     "end_time": null,
     "exception": null,
     "start_time": null,
     "status": "pending"
    },
    "tags": []
   },
   "source": [
    "# 5. Training the Model <a class=\"anchor\" id=\"train\"></a>\n",
    "\n",
    "Building the training loop for the model. It prints the loss and accuracy for training and validation after each epoch.\n",
    "For accuracy, I have calculated the area under the ROC curve between the predicted probability and the observed target.\n",
    "The losses and accuracies are also saved in an array for further evaluation of the model."
   ]
  },
  {
   "cell_type": "code",
   "execution_count": null,
   "id": "f3041ed8",
   "metadata": {
    "execution": {
     "iopub.execute_input": "2022-08-03T07:28:24.465417Z",
     "iopub.status.busy": "2022-08-03T07:28:24.465155Z",
     "iopub.status.idle": "2022-08-03T09:04:18.361466Z",
     "shell.execute_reply": "2022-08-03T09:04:18.360520Z",
     "shell.execute_reply.started": "2022-08-03T07:28:24.465388Z"
    },
    "papermill": {
     "duration": null,
     "end_time": null,
     "exception": null,
     "start_time": null,
     "status": "pending"
    },
    "tags": []
   },
   "outputs": [],
   "source": [
    "train_losses = []\n",
    "val_losses = []\n",
    "train_auc = []\n",
    "val_auc = []\n",
    "train_auc_epoch = []\n",
    "val_auc_epoch = []\n",
    "best_acc = 0.0\n",
    "min_loss = np.Inf\n",
    "\n",
    "since = time.time()\n",
    "\n",
    "for e in range(num_epochs):\n",
    "    \n",
    "    train_loss = 0.0\n",
    "    val_loss = 0.0\n",
    "    \n",
    "    # Train the model\n",
    "    model.train()\n",
    "    for i, (images, labels) in enumerate(tqdm(train_dataloader, total=int(len(train_dataloader)))):\n",
    "        images = images.to(device)\n",
    "        labels = labels.to(device)\n",
    "        \n",
    "        # Forward pass\n",
    "        outputs = model(images)\n",
    "        loss = criterion(outputs, labels)\n",
    "        \n",
    "        # Backward and optimize\n",
    "        optimizer.zero_grad()\n",
    "        loss.backward()\n",
    "        optimizer.step()\n",
    "        \n",
    "        # Loss and accuracy\n",
    "        train_loss += loss.item()\n",
    "        y_actual = labels.data.cpu().numpy()\n",
    "        y_pred = outputs[:,-1].detach().cpu().numpy()\n",
    "        train_auc.append(roc_auc_score(y_actual, y_pred))\n",
    "    \n",
    "    # Evaluate the model\n",
    "    model.eval()\n",
    "    for i, (images, labels) in enumerate(tqdm(val_dataloader, total=int(len(val_dataloader)))):\n",
    "        images = images.to(device)\n",
    "        labels = labels.to(device)\n",
    "        \n",
    "        # Forward pass\n",
    "        outputs = model(images)\n",
    "        loss = criterion(outputs, labels)\n",
    "        \n",
    "        # Loss and accuracy\n",
    "        val_loss += loss.item()\n",
    "        y_actual = labels.data.cpu().numpy()\n",
    "        y_pred = outputs[:,-1].detach().cpu().numpy()\n",
    "        val_auc.append(roc_auc_score(y_actual, y_pred))\n",
    "    \n",
    "    # Average losses and accuracies\n",
    "    train_loss = train_loss/len(train_dataloader)\n",
    "    val_loss = val_loss/len(val_dataloader)\n",
    "    train_losses.append(train_loss)\n",
    "    val_losses.append(val_loss)\n",
    "    training_auc = np.mean(train_auc)\n",
    "    validation_auc = np.mean(val_auc)\n",
    "    train_auc_epoch.append(training_auc)\n",
    "    val_auc_epoch.append(validation_auc)\n",
    "    \n",
    "    # Updating best validation accuracy\n",
    "    if best_acc < validation_auc:\n",
    "        best_acc = validation_auc\n",
    "        \n",
    "    # Saving best model\n",
    "    if min_loss >= val_loss:\n",
    "        torch.save(model.state_dict(), 'best_model.pt')\n",
    "        min_loss = val_loss\n",
    "    \n",
    "    print('EPOCH {}/{}'.format(e+1, num_epochs))\n",
    "    print('-' * 10)\n",
    "    print(\"Train loss: {:.6f}, Train AUC: {:.4f}\".format(train_loss, training_auc))\n",
    "    print(\"Validation loss: {:.6f}, Validation AUC: {:.4f}\\n\".format(val_loss, validation_auc))\n",
    "\n",
    "time_elapsed = time.time() - since\n",
    "print('Training completed in {:.0f}m {:.0f}s'.format(time_elapsed // 60, time_elapsed % 60))\n",
    "print('Best validation accuracy: {:4f}'.format(best_acc))"
   ]
  },
  {
   "cell_type": "markdown",
   "id": "00759fb9",
   "metadata": {
    "papermill": {
     "duration": null,
     "end_time": null,
     "exception": null,
     "start_time": null,
     "status": "pending"
    },
    "tags": []
   },
   "source": [
    "# 5.1 Model with different loss and regularization**"
   ]
  },
  {
   "cell_type": "markdown",
   "id": "02489200",
   "metadata": {
    "papermill": {
     "duration": null,
     "end_time": null,
     "exception": null,
     "start_time": null,
     "status": "pending"
    },
    "tags": []
   },
   "source": [
    "Let us try another model with differet loss say \"sparse categorical entropy\" and a different regularization method i.e. instead of max pooling , let us try adding a drop out layer"
   ]
  },
  {
   "cell_type": "code",
   "execution_count": null,
   "id": "3f6b222d",
   "metadata": {
    "papermill": {
     "duration": null,
     "end_time": null,
     "exception": null,
     "start_time": null,
     "status": "pending"
    },
    "tags": []
   },
   "outputs": [],
   "source": [
    "model1 = Sequential()\n",
    "\n",
    "\n",
    "\n",
    "# Conv1\n",
    "\n",
    "model1.add(Conv2D(32, (3,3), input_shape=(96,96,3),padding='same'))\n",
    "\n",
    "model1.add(Activation('relu'))\n",
    "\n",
    "model1.add(MaxPool2D((2,2)))\n",
    "model1.add(Dropout(0.3))\n",
    "\n",
    "\n",
    "# Conv2\n",
    "\n",
    "model1.add(Conv2D(64, (3,3),padding='valid'))\n",
    "\n",
    "model1.add(Activation('relu'))\n",
    "\n",
    "model1.add(MaxPool2D((2,2)))\n",
    "model1.add(Dropout(0.3))\n",
    "\n",
    "# Conv3\n",
    "\n",
    "model1.add(Conv2D(128, (3,3),padding='valid'))\n",
    "\n",
    "model1.add(Activation('relu'))\n",
    "\n",
    "model1.add(MaxPool2D((2,2)))\n",
    "model1.add(Dropout(0.3))\n",
    "\n",
    "# Conv4\n",
    "\n",
    "model1.add(Conv2D(256, (3,3),padding='valid'))\n",
    "\n",
    "model1.add(Activation('relu'))\n",
    "\n",
    "model1.add(MaxPool2D((2,2)))\n",
    "model1.add(Dropout(0.3))\n",
    "\n",
    "# Conv5\n",
    "model1.add(Conv2D(512, (3,3),padding='valid'))\n",
    "\n",
    "model1.add(Activation('relu'))\n",
    "\n",
    "model1.add(MaxPool2D((2,2)))\n",
    "model1.add(Dropout(0.3))\n",
    "\n",
    "# FC\n",
    "\n",
    "model1.add(Flatten())\n",
    "model1.add(Dense(512, activation='sigmoid'))\n",
    "model1.add(Dropout(0.3))\n",
    "\n",
    "#op\n",
    "model1.add(Dropout(0.3))\n",
    "model1.add(Dense(2))\n",
    "model1.add(Activation('sigmoid'))\n",
    "\n",
    "model1.summary()"
   ]
  },
  {
   "cell_type": "code",
   "execution_count": null,
   "id": "19c56571",
   "metadata": {
    "papermill": {
     "duration": null,
     "end_time": null,
     "exception": null,
     "start_time": null,
     "status": "pending"
    },
    "tags": []
   },
   "outputs": [],
   "source": [
    "model1.compile(loss='sparse_categorical_crossentropy',           \n",
    "              optimizer='adam', metrics=['accuracy'])"
   ]
  },
  {
   "cell_type": "code",
   "execution_count": null,
   "id": "a18584e7",
   "metadata": {
    "papermill": {
     "duration": null,
     "end_time": null,
     "exception": null,
     "start_time": null,
     "status": "pending"
    },
    "tags": []
   },
   "outputs": [],
   "source": [
    "STEP_SIZE_TRAIN=train_dataloader.n//train_dataloader.batch_size\n",
    "STEP_SIZE_VALID=valid_dataloader.n//valid_dataloader.batch_size"
   ]
  },
  {
   "cell_type": "code",
   "execution_count": null,
   "id": "96b26b95",
   "metadata": {
    "papermill": {
     "duration": null,
     "end_time": null,
     "exception": null,
     "start_time": null,
     "status": "pending"
    },
    "tags": []
   },
   "outputs": [],
   "source": [
    "history1 = model1.fit(train_generator,\n",
    "                    steps_per_epoch=STEP_SIZE_TRAIN,\n",
    "                    validation_data=valid_generator,\n",
    "                    validation_steps=STEP_SIZE_VALID,\n",
    "                    epochs=30, verbose=1\n",
    ")"
   ]
  },
  {
   "cell_type": "markdown",
   "id": "498d42cb",
   "metadata": {
    "papermill": {
     "duration": null,
     "end_time": null,
     "exception": null,
     "start_time": null,
     "status": "pending"
    },
    "tags": []
   },
   "source": [
    "### 5.3 COMPARISON OF THE TWO MODELS ****\n",
    "\n",
    "Our first model with 10 epochs seems to perform better when compared to the second one which has :sparse categorical loss function and no learning rate and 30 epochs. This may be due to the loss function and the effect of the learning rate."
   ]
  },
  {
   "cell_type": "markdown",
   "id": "24d1d19a",
   "metadata": {
    "papermill": {
     "duration": null,
     "end_time": null,
     "exception": null,
     "start_time": null,
     "status": "pending"
    },
    "tags": []
   },
   "source": [
    "### 5.4 Plotting training history\n",
    "\n",
    "**Loss Convergence**"
   ]
  },
  {
   "cell_type": "code",
   "execution_count": null,
   "id": "27d55ad2",
   "metadata": {
    "execution": {
     "iopub.execute_input": "2022-08-03T09:06:27.720192Z",
     "iopub.status.busy": "2022-08-03T09:06:27.719626Z",
     "iopub.status.idle": "2022-08-03T09:06:28.020315Z",
     "shell.execute_reply": "2022-08-03T09:06:28.019623Z",
     "shell.execute_reply.started": "2022-08-03T09:06:27.720155Z"
    },
    "papermill": {
     "duration": null,
     "end_time": null,
     "exception": null,
     "start_time": null,
     "status": "pending"
    },
    "tags": []
   },
   "outputs": [],
   "source": [
    "plt.figure(figsize=(20,5))\n",
    "plt.plot(train_losses, '-o', label=\"train\")\n",
    "plt.plot(val_losses, '-o', label=\"val\")\n",
    "plt.xlabel(\"Epoch\")\n",
    "plt.ylabel(\"Loss\")\n",
    "plt.title(\"Loss change over epoch\")\n",
    "plt.legend()"
   ]
  },
  {
   "cell_type": "markdown",
   "id": "52f254a5",
   "metadata": {
    "papermill": {
     "duration": null,
     "end_time": null,
     "exception": null,
     "start_time": null,
     "status": "pending"
    },
    "tags": []
   },
   "source": [
    "## 5.5 Accuracy trend**"
   ]
  },
  {
   "cell_type": "code",
   "execution_count": null,
   "id": "84209281",
   "metadata": {
    "execution": {
     "iopub.execute_input": "2022-08-03T09:06:32.373934Z",
     "iopub.status.busy": "2022-08-03T09:06:32.373661Z",
     "iopub.status.idle": "2022-08-03T09:06:32.680254Z",
     "shell.execute_reply": "2022-08-03T09:06:32.679416Z",
     "shell.execute_reply.started": "2022-08-03T09:06:32.373903Z"
    },
    "papermill": {
     "duration": null,
     "end_time": null,
     "exception": null,
     "start_time": null,
     "status": "pending"
    },
    "tags": []
   },
   "outputs": [],
   "source": [
    "plt.figure(figsize=(20,5))\n",
    "plt.plot(train_auc_epoch, '-o', label=\"train\")\n",
    "plt.plot(val_auc_epoch, '-o', label=\"val\")\n",
    "plt.xlabel(\"Epoch\")\n",
    "plt.ylabel(\"Accuracy\")\n",
    "plt.title(\"Accuracy over epoch\")\n",
    "plt.legend()"
   ]
  },
  {
   "cell_type": "markdown",
   "id": "6959856f",
   "metadata": {
    "papermill": {
     "duration": null,
     "end_time": null,
     "exception": null,
     "start_time": null,
     "status": "pending"
    },
    "tags": []
   },
   "source": [
    "## 5.6 Loading the best model"
   ]
  },
  {
   "cell_type": "code",
   "execution_count": null,
   "id": "d0fd06f4",
   "metadata": {
    "execution": {
     "iopub.execute_input": "2022-08-03T09:06:37.060380Z",
     "iopub.status.busy": "2022-08-03T09:06:37.059818Z",
     "iopub.status.idle": "2022-08-03T09:06:37.081328Z",
     "shell.execute_reply": "2022-08-03T09:06:37.080520Z",
     "shell.execute_reply.started": "2022-08-03T09:06:37.060342Z"
    },
    "papermill": {
     "duration": null,
     "end_time": null,
     "exception": null,
     "start_time": null,
     "status": "pending"
    },
    "tags": []
   },
   "outputs": [],
   "source": [
    "model.load_state_dict(torch.load('best_model.pt'))"
   ]
  },
  {
   "cell_type": "markdown",
   "id": "0efae1c6",
   "metadata": {
    "papermill": {
     "duration": null,
     "end_time": null,
     "exception": null,
     "start_time": null,
     "status": "pending"
    },
    "tags": []
   },
   "source": [
    "# 6. Model predictions <a class=\"anchor\" id=\"pred\"></a>\n",
    "\n",
    "### 6.1 Predictions on test dataset\n",
    "\n",
    "I have used my best model to make predictions on the test dataset."
   ]
  },
  {
   "cell_type": "code",
   "execution_count": null,
   "id": "9d0ffe79",
   "metadata": {
    "execution": {
     "iopub.execute_input": "2022-08-03T09:06:40.340418Z",
     "iopub.status.busy": "2022-08-03T09:06:40.340150Z",
     "iopub.status.idle": "2022-08-03T09:16:34.076224Z",
     "shell.execute_reply": "2022-08-03T09:16:34.075525Z",
     "shell.execute_reply.started": "2022-08-03T09:06:40.340386Z"
    },
    "papermill": {
     "duration": null,
     "end_time": null,
     "exception": null,
     "start_time": null,
     "status": "pending"
    },
    "tags": []
   },
   "outputs": [],
   "source": [
    "model.eval()\n",
    "\n",
    "predictions = []\n",
    "\n",
    "for i, (images, labels) in enumerate(tqdm(test_dataloader, total=int(len(test_dataloader)))):\n",
    "    images = images.to(device)\n",
    "    labels = labels.to(device)\n",
    "    \n",
    "    outputs = model(images)\n",
    "    pred = outputs[:,1].detach().cpu().numpy()\n",
    "    \n",
    "    for j in pred:\n",
    "        predictions.append(j)"
   ]
  },
  {
   "cell_type": "markdown",
   "id": "cc49a719",
   "metadata": {
    "papermill": {
     "duration": null,
     "end_time": null,
     "exception": null,
     "start_time": null,
     "status": "pending"
    },
    "tags": []
   },
   "source": [
    "### 6.2  Modifying the submission file\n",
    "\n",
    "Now I am using the predictions made by the model to create a submission file."
   ]
  },
  {
   "cell_type": "code",
   "execution_count": null,
   "id": "96902436",
   "metadata": {
    "execution": {
     "iopub.execute_input": "2022-08-03T09:19:50.843766Z",
     "iopub.status.busy": "2022-08-03T09:19:50.843475Z",
     "iopub.status.idle": "2022-08-03T09:19:50.998114Z",
     "shell.execute_reply": "2022-08-03T09:19:50.997261Z",
     "shell.execute_reply.started": "2022-08-03T09:19:50.843732Z"
    },
    "papermill": {
     "duration": null,
     "end_time": null,
     "exception": null,
     "start_time": null,
     "status": "pending"
    },
    "tags": []
   },
   "outputs": [],
   "source": [
    "sub['label'] = predictions\n",
    "sub.to_csv('submission.csv', index=False)\n",
    "sub.info()"
   ]
  },
  {
   "cell_type": "markdown",
   "id": "78d353cf",
   "metadata": {
    "papermill": {
     "duration": null,
     "end_time": null,
     "exception": null,
     "start_time": null,
     "status": "pending"
    },
    "tags": []
   },
   "source": [
    "# 7. Visualising predictions\n",
    "\n"
   ]
  },
  {
   "cell_type": "code",
   "execution_count": null,
   "id": "432978a7",
   "metadata": {
    "execution": {
     "iopub.execute_input": "2022-08-03T09:20:13.571646Z",
     "iopub.status.busy": "2022-08-03T09:20:13.571359Z",
     "iopub.status.idle": "2022-08-03T09:20:17.959949Z",
     "shell.execute_reply": "2022-08-03T09:20:17.957653Z",
     "shell.execute_reply.started": "2022-08-03T09:20:13.571614Z"
    },
    "papermill": {
     "duration": null,
     "end_time": null,
     "exception": null,
     "start_time": null,
     "status": "pending"
    },
    "tags": []
   },
   "outputs": [],
   "source": [
    "test_images = np.random.choice(sub.id, size=50, replace=False)     \n",
    "\n",
    "fig, ax = plt.subplots(5, 10, figsize=(20,10))\n",
    "\n",
    "for n in range(5):\n",
    "    for m in range(10):\n",
    "        img_id = test_images[m + n*10]\n",
    "        image = Image.open(test_path + img_id + \".tif\")\n",
    "        pred = sub.loc[sub['id'] == img_id, 'label'].values[0]\n",
    "        label = \"Cancer\" if(pred >= 0.5) else \"Healthy\"  \n",
    "        ax[n,m].imshow(image)\n",
    "        ax[n,m].grid(False)\n",
    "        ax[n,m].tick_params(labelbottom=False, labelleft=False)\n",
    "        ax[n,m].set_title(\"Label: \" + label)"
   ]
  },
  {
   "cell_type": "markdown",
   "id": "9d7b9a9d",
   "metadata": {
    "papermill": {
     "duration": null,
     "end_time": null,
     "exception": null,
     "start_time": null,
     "status": "pending"
    },
    "tags": []
   },
   "source": [
    "# 8.FUTURE ENHANCEMENTS**"
   ]
  },
  {
   "cell_type": "markdown",
   "id": "32db21ce",
   "metadata": {
    "papermill": {
     "duration": null,
     "end_time": null,
     "exception": null,
     "start_time": null,
     "status": "pending"
    },
    "tags": []
   },
   "source": [
    "The model can be further improved by increasing the number of epochs or changing the hyper parameters like learning rate, drop out etc."
   ]
  }
 ],
 "metadata": {
  "kernelspec": {
   "display_name": "Python 3",
   "language": "python",
   "name": "python3"
  },
  "language_info": {
   "codemirror_mode": {
    "name": "ipython",
    "version": 3
   },
   "file_extension": ".py",
   "mimetype": "text/x-python",
   "name": "python",
   "nbconvert_exporter": "python",
   "pygments_lexer": "ipython3",
   "version": "3.7.12"
  },
  "papermill": {
   "default_parameters": {},
   "duration": 8.380306,
   "end_time": "2022-08-03T09:22:05.371670",
   "environment_variables": {},
   "exception": true,
   "input_path": "__notebook__.ipynb",
   "output_path": "__notebook__.ipynb",
   "parameters": {},
   "start_time": "2022-08-03T09:21:56.991364",
   "version": "2.3.3"
  }
 },
 "nbformat": 4,
 "nbformat_minor": 5
}
